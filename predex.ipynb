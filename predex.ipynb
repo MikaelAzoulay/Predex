{
 "cells": [
  {
   "cell_type": "markdown",
   "metadata": {},
   "source": [
    "# KEPLER on Jupyter notebook"
   ]
  },
  {
   "cell_type": "code",
   "execution_count": null,
   "metadata": {},
   "outputs": [],
   "source": [
    "!pip install keplergl\n"
   ]
  },
  {
   "cell_type": "markdown",
   "metadata": {},
   "source": [
    "On Windows u will probably need to install gdal package go in anaconda prompt and run :\n",
    "\n",
    "pip install gdal"
   ]
  },
  {
   "cell_type": "code",
   "execution_count": 1,
   "metadata": {},
   "outputs": [],
   "source": [
    "import pandas as pd\n",
    "#we get the predictions from the other file\n",
    "df_pred=pd.read_csv('dfpred.csv')"
   ]
  },
  {
   "cell_type": "code",
   "execution_count": 11,
   "metadata": {},
   "outputs": [
    {
     "name": "stdout",
     "output_type": "stream",
     "text": [
      "User Guide: https://github.com/keplergl/kepler.gl/blob/master/docs/keplergl-jupyter/user-guide.md\n"
     ]
    }
   ],
   "source": [
    "from keplergl import KeplerGl\n",
    "map_2 = KeplerGl(height=400, data={\"predictions\": df_pred})"
   ]
  },
  {
   "cell_type": "code",
   "execution_count": 23,
   "metadata": {},
   "outputs": [
    {
     "data": {
      "application/vnd.jupyter.widget-view+json": {
       "model_id": "c838960c1c5840fca3d9dd62edcf468d",
       "version_major": 2,
       "version_minor": 0
      },
      "text/plain": [
       "KeplerGl(config={'version': 'v1', 'config': {'visState': {'filters': [], 'layers': [{'id': 'mz42re', 'type': '…"
      ]
     },
     "metadata": {},
     "output_type": "display_data"
    }
   ],
   "source": [
    "map_1"
   ]
  },
  {
   "cell_type": "code",
   "execution_count": 17,
   "metadata": {},
   "outputs": [
    {
     "data": {
      "text/plain": [
       "{'version': 'v1',\n",
       " 'config': {'visState': {'filters': [],\n",
       "   'layers': [{'id': 'mz42re',\n",
       "     'type': 'cluster',\n",
       "     'config': {'dataId': 'predictions',\n",
       "      'label': 'new layer',\n",
       "      'color': [34, 63, 154],\n",
       "      'columns': {'lat': 'Y', 'lng': 'X'},\n",
       "      'isVisible': True,\n",
       "      'visConfig': {'opacity': 0.8,\n",
       "       'clusterRadius': 40,\n",
       "       'colorRange': {'name': 'ColorBrewer YlGn-6',\n",
       "        'type': 'sequential',\n",
       "        'category': 'ColorBrewer',\n",
       "        'colors': ['#ffffcc',\n",
       "         '#d9f0a3',\n",
       "         '#addd8e',\n",
       "         '#78c679',\n",
       "         '#31a354',\n",
       "         '#006837']},\n",
       "       'radiusRange': [1, 40],\n",
       "       'colorAggregation': 'average'},\n",
       "      'textLabel': [{'field': None,\n",
       "        'color': [255, 255, 255],\n",
       "        'size': 18,\n",
       "        'offset': [0, 0],\n",
       "        'anchor': 'start',\n",
       "        'alignment': 'center'}]},\n",
       "     'visualChannels': {'colorField': {'name': 'pred', 'type': 'integer'},\n",
       "      'colorScale': 'quantile'}}],\n",
       "   'interactionConfig': {'tooltip': {'fieldsToShow': {'predictions': ['Unnamed: 0',\n",
       "       'X',\n",
       "       'Y',\n",
       "       'pred']},\n",
       "     'enabled': True},\n",
       "    'brush': {'size': 0.5, 'enabled': False}},\n",
       "   'layerBlending': 'normal',\n",
       "   'splitMaps': [],\n",
       "   'animationConfig': {'currentTime': None, 'speed': 1}},\n",
       "  'mapState': {'bearing': 0,\n",
       "   'dragRotate': False,\n",
       "   'latitude': 48.86430963723589,\n",
       "   'longitude': 2.2934119726278057,\n",
       "   'pitch': 0,\n",
       "   'zoom': 11.085972127589693,\n",
       "   'isSplit': False},\n",
       "  'mapStyle': {'styleType': 'light',\n",
       "   'topLayerGroups': {},\n",
       "   'visibleLayerGroups': {'label': True,\n",
       "    'road': True,\n",
       "    'border': False,\n",
       "    'building': True,\n",
       "    'water': True,\n",
       "    'land': True,\n",
       "    '3d building': False},\n",
       "   'threeDBuildingColor': [218.82023004728686,\n",
       "    223.47597962276103,\n",
       "    223.47597962276103],\n",
       "   'mapStyles': {}}}}"
      ]
     },
     "execution_count": 17,
     "metadata": {},
     "output_type": "execute_result"
    }
   ],
   "source": [
    "map_2.config"
   ]
  },
  {
   "cell_type": "code",
   "execution_count": null,
   "metadata": {},
   "outputs": [],
   "source": []
  },
  {
   "cell_type": "code",
   "execution_count": 20,
   "metadata": {},
   "outputs": [
    {
     "name": "stdout",
     "output_type": "stream",
     "text": [
      "User Guide: https://github.com/keplergl/kepler.gl/blob/master/docs/keplergl-jupyter/user-guide.md\n"
     ]
    }
   ],
   "source": [
    "map_1 = KeplerGl(height=400, data={\"data_1\": df_pred},config=map_2.config)"
   ]
  },
  {
   "cell_type": "code",
   "execution_count": 15,
   "metadata": {},
   "outputs": [
    {
     "data": {
      "application/vnd.jupyter.widget-view+json": {
       "model_id": "012137c37fb84172bb7df8e9e2abb106",
       "version_major": 2,
       "version_minor": 0
      },
      "text/plain": [
       "KeplerGl(config={'version': 'v1', 'config': {'visState': {'filters': [], 'layers': [{'id': 'mz42re', 'type': '…"
      ]
     },
     "metadata": {},
     "output_type": "display_data"
    }
   ],
   "source": [
    "map_1"
   ]
  },
  {
   "cell_type": "markdown",
   "metadata": {},
   "source": [
    "# SAVE THE MAP"
   ]
  },
  {
   "cell_type": "code",
   "execution_count": 21,
   "metadata": {},
   "outputs": [
    {
     "name": "stdout",
     "output_type": "stream",
     "text": [
      "Map saved to prediction.html!\n"
     ]
    }
   ],
   "source": [
    "\n",
    "# this will save map with provided data and config\n",
    "map_2.save_to_html(data={'data_1': df_pred},file_name='prediction.html')\n",
    "\n",
    "# this will save map with the interaction panel disabled\n",
    "map_2.save_to_html(file_name='pred.html' read_only=True)"
   ]
  },
  {
   "cell_type": "code",
   "execution_count": 22,
   "metadata": {},
   "outputs": [
    {
     "data": {
      "application/vnd.jupyter.widget-view+json": {
       "model_id": "d453000bd5e44c45b58492d87aab0a89",
       "version_major": 2,
       "version_minor": 0
      },
      "text/plain": [
       "KeplerGl(config={'version': 'v1', 'config': {'visState': {'filters': [], 'layers': [{'id': 'mz42re', 'type': '…"
      ]
     },
     "metadata": {},
     "output_type": "display_data"
    }
   ],
   "source": [
    "map_2"
   ]
  }
 ],
 "metadata": {
  "kernelspec": {
   "display_name": "Python 3",
   "language": "python",
   "name": "python3"
  },
  "language_info": {
   "codemirror_mode": {
    "name": "ipython",
    "version": 3
   },
   "file_extension": ".py",
   "mimetype": "text/x-python",
   "name": "python",
   "nbconvert_exporter": "python",
   "pygments_lexer": "ipython3",
   "version": "3.7.3"
  }
 },
 "nbformat": 4,
 "nbformat_minor": 2
}
